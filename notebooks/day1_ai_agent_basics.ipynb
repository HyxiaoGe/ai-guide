{
 "cells": [
  {
   "cell_type": "markdown",
   "metadata": {},
   "source": [
    "# 第1天：AI Agent 基础概念与实践\n",
    "\n",
    "## 1. 什么是AI Agent？\n",
    "\n",
    "AI Agent是一个能够感知环境、做出决策并采取行动的智能系统。它具有以下核心特征：\n",
    "\n",
    "- **自主性(Autonomy)**：能够独立运行，无需人类持续干预\n",
    "- **反应性(Reactivity)**：能够感知环境变化并做出响应\n",
    "- **主动性(Proactivity)**：能够主动采取行动实现目标\n",
    "- **社交能力(Social Ability)**：能够与其他Agent或人类交互"
   ]
  },
  {
   "cell_type": "markdown",
   "metadata": {},
   "source": [
    "## 2. Agent的五种类型\n",
    "\n",
    "1. **简单反射型Agent**：基于当前感知直接选择行动\n",
    "2. **基于模型的反射型Agent**：维护内部状态，理解世界如何运作\n",
    "3. **基于目标的Agent**：有明确目标，选择能达成目标的行动\n",
    "4. **基于效用的Agent**：不仅考虑目标，还评估不同状态的效用\n",
    "5. **学习型Agent**：能从经验中学习，不断改进性能"
   ]
  },
  {
   "cell_type": "code",
   "execution_count": 2,
   "metadata": {},
   "outputs": [
    {
     "name": "stdout",
     "output_type": "stream",
     "text": [
      "OpenAI API Key 已配置: True\n"
     ]
    }
   ],
   "source": [
    "# 环境设置\n",
    "import os\n",
    "from dotenv import load_dotenv\n",
    "\n",
    "# 加载环境变量\n",
    "load_dotenv()\n",
    "\n",
    "# 验证环境\n",
    "print(\"OpenAI API Key 已配置:\", bool(os.getenv(\"OPENAI_API_KEY\")))"
   ]
  },
  {
   "cell_type": "markdown",
   "metadata": {},
   "source": [
    "## 3. 创建第一个简单Agent"
   ]
  },
  {
   "cell_type": "code",
   "execution_count": 3,
   "metadata": {},
   "outputs": [
    {
     "name": "stderr",
     "output_type": "stream",
     "text": [
      "C:\\Users\\18889\\AppData\\Local\\Temp\\ipykernel_38420\\3835938454.py:47: LangChainDeprecationWarning: LangChain agents will continue to be supported, but it is recommended for new use cases to be built with LangGraph. LangGraph offers a more flexible and full-featured framework for building agents, including support for tool-calling, persistence of state, and human-in-the-loop workflows. For details, refer to the `LangGraph documentation <https://langchain-ai.github.io/langgraph/>`_ as well as guides for `Migrating from AgentExecutor <https://python.langchain.com/docs/how_to/migrate_agent/>`_ and LangGraph's `Pre-built ReAct agent <https://langchain-ai.github.io/langgraph/how-tos/create-react-agent/>`_.\n",
      "  agent = initialize_agent(\n"
     ]
    }
   ],
   "source": [
    "from langchain.agents import initialize_agent, Tool\n",
    "from langchain.agents import AgentType\n",
    "from langchain_openai import ChatOpenAI\n",
    "from langchain.callbacks import StreamingStdOutCallbackHandler\n",
    "\n",
    "# 初始化语言模型\n",
    "llm = ChatOpenAI(\n",
    "    temperature=0,\n",
    "    model=\"gpt-3.5-turbo\",\n",
    "    streaming=True,\n",
    "    callbacks=[StreamingStdOutCallbackHandler()]\n",
    ")\n",
    "\n",
    "# 定义工具函数\n",
    "def calculator(expression: str) -> str:\n",
    "    \"\"\"执行数学计算\"\"\"\n",
    "    try:\n",
    "        result = eval(expression)\n",
    "        return f\"计算结果: {result}\"\n",
    "    except Exception as e:\n",
    "        return f\"计算错误: {str(e)}\"\n",
    "\n",
    "def get_weather(city: str) -> str:\n",
    "    \"\"\"获取天气信息（模拟）\"\"\"\n",
    "    weather_data = {\n",
    "        \"北京\": \"晴天，温度25°C\",\n",
    "        \"上海\": \"多云，温度22°C\",\n",
    "        \"广州\": \"小雨，温度28°C\"\n",
    "    }\n",
    "    return weather_data.get(city, \"未找到该城市的天气信息\")\n",
    "\n",
    "# 创建工具列表\n",
    "tools = [\n",
    "    Tool(\n",
    "        name=\"Calculator\",\n",
    "        func=calculator,\n",
    "        description=\"用于执行数学计算，输入数学表达式\"\n",
    "    ),\n",
    "    Tool(\n",
    "        name=\"Weather\",\n",
    "        func=get_weather,\n",
    "        description=\"获取城市天气信息，输入城市名称\"\n",
    "    )\n",
    "]\n",
    "\n",
    "# 初始化Agent\n",
    "agent = initialize_agent(\n",
    "    tools=tools,\n",
    "    llm=llm,\n",
    "    agent=AgentType.ZERO_SHOT_REACT_DESCRIPTION,\n",
    "    verbose=True,\n",
    "    handle_parsing_errors=True\n",
    ")"
   ]
  },
  {
   "cell_type": "code",
   "execution_count": 4,
   "metadata": {},
   "outputs": [
    {
     "name": "stderr",
     "output_type": "stream",
     "text": [
      "C:\\Users\\18889\\AppData\\Local\\Temp\\ipykernel_38420\\2157372142.py:2: LangChainDeprecationWarning: The method `Chain.run` was deprecated in langchain 0.1.0 and will be removed in 1.0. Use :meth:`~invoke` instead.\n",
      "  response = agent.run(\"北京今天天气怎么样？如果温度超过20度，计算一下25乘以4等于多少？\")\n"
     ]
    },
    {
     "name": "stdout",
     "output_type": "stream",
     "text": [
      "\n",
      "\n",
      "\u001b[1m> Entering new AgentExecutor chain...\u001b[0m\n"
     ]
    },
    {
     "name": "stderr",
     "output_type": "stream",
     "text": [
      "Failed to multipart ingest runs: langsmith.utils.LangSmithError: Failed to POST https://api.smith.langchain.com/runs/multipart in LangSmith API. HTTPError('403 Client Error: Forbidden for url: https://api.smith.langchain.com/runs/multipart', '{\"error\":\"Forbidden\"}\\n')\n"
     ]
    },
    {
     "name": "stdout",
     "output_type": "stream",
     "text": [
      "首先获取北京今天的天气信息，然后判断温度是否超过20度，如果超过20度再进行数学计算。\n",
      "Action: Weather\n",
      "Action Input: \"北京\"\u001b[32;1m\u001b[1;3m首先获取北京今天的天气信息，然后判断温度是否超过20度，如果超过20度再进行数学计算。\n",
      "Action: Weather\n",
      "Action Input: \"北京\"\u001b[0m\n",
      "Observation: \u001b[33;1m\u001b[1;3m晴天，温度25°C\u001b[0m\n",
      "Thought:"
     ]
    },
    {
     "name": "stderr",
     "output_type": "stream",
     "text": [
      "Failed to send compressed multipart ingest: langsmith.utils.LangSmithError: Failed to POST https://api.smith.langchain.com/runs/multipart in LangSmith API. HTTPError('403 Client Error: Forbidden for url: https://api.smith.langchain.com/runs/multipart', '{\"error\":\"Forbidden\"}\\n')\n"
     ]
    },
    {
     "name": "stdout",
     "output_type": "stream",
     "text": [
      "获取到了北京今天的天气信息，温度为25°C，超过了20度，可以进行数学计算。\n",
      "Action: Calculator\n",
      "Action Input: \"25*4\"\u001b[32;1m\u001b[1;3m获取到了北京今天的天气信息，温度为25°C，超过了20度，可以进行数学计算。\n",
      "Action: Calculator\n",
      "Action Input: \"25*4\"\u001b[0m\n",
      "Observation: \u001b[36;1m\u001b[1;3m计算结果: 100\u001b[0m\n",
      "Thought:"
     ]
    },
    {
     "name": "stderr",
     "output_type": "stream",
     "text": [
      "Failed to send compressed multipart ingest: langsmith.utils.LangSmithError: Failed to POST https://api.smith.langchain.com/runs/multipart in LangSmith API. HTTPError('403 Client Error: Forbidden for url: https://api.smith.langchain.com/runs/multipart', '{\"error\":\"Forbidden\"}\\n')\n"
     ]
    },
    {
     "name": "stdout",
     "output_type": "stream",
     "text": [
      "北京今天的天气是晴天，温度为25°C，超过了20度，25乘以4等于100。\n",
      "Final Answer: 今天北京的天气是晴天，温度为25°C，25乘以4等于100。\u001b[32;1m\u001b[1;3m北京今天的天气是晴天，温度为25°C，超过了20度，25乘以4等于100。\n",
      "Final Answer: 今天北京的天气是晴天，温度为25°C，25乘以4等于100。\u001b[0m\n",
      "\n",
      "\u001b[1m> Finished chain.\u001b[0m\n",
      "\n",
      "最终回答: 今天北京的天气是晴天，温度为25°C，25乘以4等于100。\n"
     ]
    },
    {
     "name": "stderr",
     "output_type": "stream",
     "text": [
      "Failed to send compressed multipart ingest: langsmith.utils.LangSmithError: Failed to POST https://api.smith.langchain.com/runs/multipart in LangSmith API. HTTPError('403 Client Error: Forbidden for url: https://api.smith.langchain.com/runs/multipart', '{\"error\":\"Forbidden\"}\\n')\n"
     ]
    }
   ],
   "source": [
    "# 测试Agent\n",
    "response = agent.run(\"北京今天天气怎么样？如果温度超过20度，计算一下25乘以4等于多少？\")\n",
    "print(\"\\n最终回答:\", response)"
   ]
  },
  {
   "cell_type": "markdown",
   "metadata": {},
   "source": [
    "## 4. Agent的思考链（Chain of Thought）\n",
    "\n",
    "Agent使用ReAct（Reasoning + Acting）模式：\n",
    "1. **Thought（思考）**：分析问题，决定下一步行动\n",
    "2. **Action（行动）**：选择并执行工具\n",
    "3. **Observation（观察）**：获取工具执行结果\n",
    "4. **重复**：继续思考-行动-观察循环，直到得出最终答案"
   ]
  },
  {
   "cell_type": "markdown",
   "metadata": {},
   "source": [
    "## 5. 今日总结与明日预告\n",
    "\n",
    "### 今日学习成果\n",
    "- ✅ 理解了AI Agent的核心概念和特征\n",
    "- ✅ 掌握了Agent的5种基本类型\n",
    "- ✅ 使用LangChain创建了第一个能够使用工具的Agent\n",
    "- ✅ 理解了ReAct思考模式\n",
    "\n",
    "### 明日学习内容\n",
    "- 深入学习LangChain框架架构\n",
    "- 掌握Prompt Templates和Output Parsers\n",
    "- 实现带有Memory的对话Agent\n",
    "- 学习Document Loaders和Text Splitters"
   ]
  }
 ],
 "metadata": {
  "kernelspec": {
   "display_name": "ai-guide",
   "language": "python",
   "name": "python3"
  },
  "language_info": {
   "codemirror_mode": {
    "name": "ipython",
    "version": 3
   },
   "file_extension": ".py",
   "mimetype": "text/x-python",
   "name": "python",
   "nbconvert_exporter": "python",
   "pygments_lexer": "ipython3",
   "version": "3.12.11"
  }
 },
 "nbformat": 4,
 "nbformat_minor": 4
}
